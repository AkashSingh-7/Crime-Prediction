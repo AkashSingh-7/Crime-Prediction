{
 "cells": [
  {
   "cell_type": "code",
   "execution_count": 1,
   "metadata": {},
   "outputs": [],
   "source": [
    "%matplotlib inline\n",
    "import pandas as pd\n",
    "import matplotlib.pyplot as plt\n",
    "import numpy as np"
   ]
  },
  {
   "cell_type": "code",
   "execution_count": null,
   "metadata": {},
   "outputs": [],
   "source": []
  },
  {
   "cell_type": "code",
   "execution_count": 2,
   "metadata": {},
   "outputs": [],
   "source": [
    "ls=['A & N ISLANDS', 'ANDHRA PRADESH', 'ARUNACHAL PRADESH', 'ASSAM', 'BIHAR', 'CHANDIGARH', 'CHHATTISGARH', 'D & N HAVELI', 'DAMAN & DIU', 'DELHI UT', 'GOA', 'GUJARAT', 'HARYANA', 'HIMACHAL PRADESH', 'JAMMU & KASHMIR', 'JHARKHAND', 'KARNATAKA', 'KERALA', 'LAKSHADWEEP', 'MADHYA PRADESH', 'MAHARASHTRA', 'MANIPUR', 'MEGHALAYA', 'MIZORAM', 'NAGALAND', 'ODISHA', 'PUDUCHERRY', 'PUNJAB', 'RAJASTHAN', 'SIKKIM', 'TAMIL NADU', 'TRIPURA', 'UTTAR PRADESH', 'UTTARAKHAND', 'WEST BENGAL']"
   ]
  },
  {
   "cell_type": "code",
   "execution_count": 3,
   "metadata": {},
   "outputs": [
    {
     "name": "stdout",
     "output_type": "stream",
     "text": [
      "0 A & N ISLANDS\n",
      "1 ANDHRA PRADESH\n",
      "2 ARUNACHAL PRADESH\n",
      "3 ASSAM\n",
      "4 BIHAR\n",
      "5 CHANDIGARH\n",
      "6 CHHATTISGARH\n",
      "7 D & N HAVELI\n",
      "8 DAMAN & DIU\n",
      "9 DELHI UT\n",
      "10 GOA\n",
      "11 GUJARAT\n",
      "12 HARYANA\n",
      "13 HIMACHAL PRADESH\n",
      "14 JAMMU & KASHMIR\n",
      "15 JHARKHAND\n",
      "16 KARNATAKA\n",
      "17 KERALA\n",
      "18 LAKSHADWEEP\n",
      "19 MADHYA PRADESH\n",
      "20 MAHARASHTRA\n",
      "21 MANIPUR\n",
      "22 MEGHALAYA\n",
      "23 MIZORAM\n",
      "24 NAGALAND\n",
      "25 ODISHA\n",
      "26 PUDUCHERRY\n",
      "27 PUNJAB\n",
      "28 RAJASTHAN\n",
      "29 SIKKIM\n",
      "30 TAMIL NADU\n",
      "31 TRIPURA\n",
      "32 UTTAR PRADESH\n",
      "33 UTTARAKHAND\n",
      "34 WEST BENGAL\n",
      "\n",
      "\n",
      "\n",
      " Enter Give Number to check crime in that State/UT\n"
     ]
    }
   ],
   "source": [
    "for i in range(35):\n",
    "    print(i,ls[i])\n",
    "print(\"\\n\\n\\n\",\"Enter Give Number to check crime in that State/UT\")"
   ]
  },
  {
   "cell_type": "code",
   "execution_count": 4,
   "metadata": {},
   "outputs": [
    {
     "name": "stdout",
     "output_type": "stream",
     "text": [
      "Input State Number33\n",
      "Enter In 24 hrs formate12\n"
     ]
    }
   ],
   "source": [
    "x=int(input(\"Input State Number\"))\n",
    "time1=int(input(\"Enter In 24 hrs formate\"))"
   ]
  },
  {
   "cell_type": "code",
   "execution_count": 5,
   "metadata": {},
   "outputs": [],
   "source": [
    "ds2=pd.read_csv(\"main_data.csv\")"
   ]
  },
  {
   "cell_type": "code",
   "execution_count": 6,
   "metadata": {},
   "outputs": [
    {
     "data": {
      "text/html": [
       "<div>\n",
       "<style scoped>\n",
       "    .dataframe tbody tr th:only-of-type {\n",
       "        vertical-align: middle;\n",
       "    }\n",
       "\n",
       "    .dataframe tbody tr th {\n",
       "        vertical-align: top;\n",
       "    }\n",
       "\n",
       "    .dataframe thead th {\n",
       "        text-align: right;\n",
       "    }\n",
       "</style>\n",
       "<table border=\"1\" class=\"dataframe\">\n",
       "  <thead>\n",
       "    <tr style=\"text-align: right;\">\n",
       "      <th></th>\n",
       "      <th>Unnamed: 0</th>\n",
       "      <th>Unnamed: 0.1</th>\n",
       "      <th>STATE/UT</th>\n",
       "      <th>MURDER</th>\n",
       "      <th>RAPE</th>\n",
       "      <th>ROBBERY</th>\n",
       "      <th>RIOTS</th>\n",
       "      <th>StateLabel</th>\n",
       "      <th>Time</th>\n",
       "    </tr>\n",
       "  </thead>\n",
       "  <tbody>\n",
       "    <tr>\n",
       "      <th>0</th>\n",
       "      <td>0</td>\n",
       "      <td>0</td>\n",
       "      <td>ANDHRA PRADESH</td>\n",
       "      <td>11</td>\n",
       "      <td>0</td>\n",
       "      <td>41</td>\n",
       "      <td>156</td>\n",
       "      <td>1</td>\n",
       "      <td>19</td>\n",
       "    </tr>\n",
       "    <tr>\n",
       "      <th>1</th>\n",
       "      <td>1</td>\n",
       "      <td>1</td>\n",
       "      <td>ANDHRA PRADESH</td>\n",
       "      <td>1</td>\n",
       "      <td>6</td>\n",
       "      <td>16</td>\n",
       "      <td>336</td>\n",
       "      <td>1</td>\n",
       "      <td>13</td>\n",
       "    </tr>\n",
       "    <tr>\n",
       "      <th>2</th>\n",
       "      <td>2</td>\n",
       "      <td>2</td>\n",
       "      <td>ANDHRA PRADESH</td>\n",
       "      <td>11</td>\n",
       "      <td>14</td>\n",
       "      <td>14</td>\n",
       "      <td>312</td>\n",
       "      <td>1</td>\n",
       "      <td>10</td>\n",
       "    </tr>\n",
       "    <tr>\n",
       "      <th>3</th>\n",
       "      <td>3</td>\n",
       "      <td>3</td>\n",
       "      <td>ANDHRA PRADESH</td>\n",
       "      <td>20</td>\n",
       "      <td>0</td>\n",
       "      <td>4</td>\n",
       "      <td>328</td>\n",
       "      <td>1</td>\n",
       "      <td>14</td>\n",
       "    </tr>\n",
       "    <tr>\n",
       "      <th>4</th>\n",
       "      <td>4</td>\n",
       "      <td>4</td>\n",
       "      <td>ANDHRA PRADESH</td>\n",
       "      <td>22</td>\n",
       "      <td>6</td>\n",
       "      <td>25</td>\n",
       "      <td>140</td>\n",
       "      <td>1</td>\n",
       "      <td>16</td>\n",
       "    </tr>\n",
       "  </tbody>\n",
       "</table>\n",
       "</div>"
      ],
      "text/plain": [
       "   Unnamed: 0  Unnamed: 0.1        STATE/UT  MURDER  RAPE  ROBBERY  RIOTS  \\\n",
       "0           0             0  ANDHRA PRADESH      11     0       41    156   \n",
       "1           1             1  ANDHRA PRADESH       1     6       16    336   \n",
       "2           2             2  ANDHRA PRADESH      11    14       14    312   \n",
       "3           3             3  ANDHRA PRADESH      20     0        4    328   \n",
       "4           4             4  ANDHRA PRADESH      22     6       25    140   \n",
       "\n",
       "   StateLabel  Time  \n",
       "0           1    19  \n",
       "1           1    13  \n",
       "2           1    10  \n",
       "3           1    14  \n",
       "4           1    16  "
      ]
     },
     "execution_count": 6,
     "metadata": {},
     "output_type": "execute_result"
    }
   ],
   "source": [
    "ds2.head(5)"
   ]
  },
  {
   "cell_type": "code",
   "execution_count": 7,
   "metadata": {},
   "outputs": [
    {
     "data": {
      "text/plain": [
       "21.18"
      ]
     },
     "execution_count": 7,
     "metadata": {},
     "output_type": "execute_result"
    }
   ],
   "source": [
    "from sklearn.linear_model import LinearRegression\n",
    "from sklearn.model_selection import train_test_split\n",
    "ds3=ds2[ds2[\"StateLabel\"]==x]\n",
    "x1=np.array(ds3[\"Time\"])\n",
    "\n",
    "time =np.array([time1])\n",
    "\n",
    "x1.reshape(-1, 1)\n",
    "X_train,X_test,y_train,y_test=train_test_split(x1.reshape(-1,1),ds3[\"MURDER\"],random_state=100)\n",
    "lr=LinearRegression()\n",
    "lr.fit(X_train,y_train)\n",
    "murder_per=round(lr.predict(time.reshape(-1,1))[0],2)\n",
    "murder_per"
   ]
  },
  {
   "cell_type": "code",
   "execution_count": 8,
   "metadata": {},
   "outputs": [
    {
     "data": {
      "text/plain": [
       "19.24"
      ]
     },
     "execution_count": 8,
     "metadata": {},
     "output_type": "execute_result"
    }
   ],
   "source": [
    "from sklearn.linear_model import LinearRegression\n",
    "from sklearn.model_selection import train_test_split\n",
    "ds3=ds2[ds2[\"StateLabel\"]==x]\n",
    "x1=np.array(ds3[\"Time\"])\n",
    "\n",
    "time =np.array([time1])\n",
    "\n",
    "x1.reshape(-1, 1)\n",
    "X_train,X_test,y_train,y_test=train_test_split(x1.reshape(-1,1),ds3[\"RAPE\"],random_state=100)\n",
    "lr=LinearRegression()\n",
    "lr.fit(X_train,y_train)\n",
    "rape_per=round(lr.predict(time.reshape(-1,1))[0],2)\n",
    "rape_per"
   ]
  },
  {
   "cell_type": "code",
   "execution_count": 9,
   "metadata": {},
   "outputs": [
    {
     "data": {
      "text/plain": [
       "12.65"
      ]
     },
     "execution_count": 9,
     "metadata": {},
     "output_type": "execute_result"
    }
   ],
   "source": [
    "from sklearn.linear_model import LinearRegression\n",
    "from sklearn.model_selection import train_test_split\n",
    "ds3=ds2[ds2[\"StateLabel\"]==x]\n",
    "x1=np.array(ds3[\"Time\"])\n",
    "time =np.array([time1])\n",
    "\n",
    "x1.reshape(-1, 1)\n",
    "X_train,X_test,y_train,y_test=train_test_split(x1.reshape(-1,1),ds3[\"ROBBERY\"],random_state=100)\n",
    "lr=LinearRegression()\n",
    "lr.fit(X_train,y_train)\n",
    "rob_per=round(lr.predict(time.reshape(-1,1))[0],2)\n",
    "rob_per"
   ]
  },
  {
   "cell_type": "code",
   "execution_count": 11,
   "metadata": {},
   "outputs": [
    {
     "data": {
      "text/plain": [
       "57.52"
      ]
     },
     "execution_count": 11,
     "metadata": {},
     "output_type": "execute_result"
    }
   ],
   "source": [
    "from sklearn.linear_model import LinearRegression\n",
    "from sklearn.model_selection import train_test_split\n",
    "ds3=ds2[ds2[\"StateLabel\"]==x]\n",
    "x1=np.array(ds3[\"Time\"])\n",
    "\n",
    "time =np.array([time1])\n",
    "\n",
    "x1.reshape(-1, 1)\n",
    "X_train,X_test,y_train,y_test=train_test_split(x1.reshape(-1,1),ds3[\"RIOTS\"],random_state=100)\n",
    "lr=LinearRegression()\n",
    "lr.fit(X_train,y_train)\n",
    "riots_per=round(lr.predict(time.reshape(-1,1))[0],2)\n",
    "riots_per\n"
   ]
  },
  {
   "cell_type": "code",
   "execution_count": 12,
   "metadata": {},
   "outputs": [
    {
     "data": {
      "text/plain": [
       "MURDER     22.684524\n",
       "RAPE       20.130952\n",
       "ROBBERY    13.690476\n",
       "RIOTS      63.827381\n",
       "dtype: float64"
      ]
     },
     "execution_count": 12,
     "metadata": {},
     "output_type": "execute_result"
    }
   ],
   "source": [
    "y=ds2[ds2[\"StateLabel\"]==x]\n",
    "y=y[[\"MURDER\",\"RAPE\",\"ROBBERY\",\"RIOTS\"]]\n",
    "temp=y.mean()\n",
    "ts=temp.sum()\n",
    "temp"
   ]
  },
  {
   "cell_type": "code",
   "execution_count": 13,
   "metadata": {},
   "outputs": [],
   "source": [
    "murder=round((temp[0]/ts)*100,2)\n",
    "rape=round((temp[1]/ts)*100,2)\n",
    "robbery=round((temp[2]/ts)*100,2)\n",
    "riots=round((temp[3]/ts)*100,2)\n",
    "lis=ds2[ds2[\"StateLabel\"]==x][\"STATE/UT\"]\n",
    "ss=lis.head(1);\n",
    "ss.index=[0]"
   ]
  },
  {
   "cell_type": "code",
   "execution_count": 14,
   "metadata": {},
   "outputs": [
    {
     "name": "stdout",
     "output_type": "stream",
     "text": [
      "murder   rape    robbery   riots\n",
      "18.85%    16.73%    11.38%    53.04%    \n"
     ]
    }
   ],
   "source": [
    "print(\"murder\",\"  rape\",\"   robbery\",\"  riots\")\n",
    "print(murder,rape,robbery,riots,\"\",sep='%    ')"
   ]
  },
  {
   "cell_type": "code",
   "execution_count": 15,
   "metadata": {},
   "outputs": [
    {
     "data": {
      "text/plain": [
       "Text(0.5, 1.0, 'UTTARAKHAND At 12')"
      ]
     },
     "execution_count": 15,
     "metadata": {},
     "output_type": "execute_result"
    },
    {
     "data": {
      "image/png": "[encoded data removed]",
      "text/plain": [
       "<Figure size 432x288 with 1 Axes>"
      ]
     },
     "metadata": {},
     "output_type": "display_data"
    }
   ],
   "source": [
    "temp=[murder_per,rape_per,rob_per,riots_per]\n",
    "explode = [0.05,0.05, 0.05,0.05]\n",
    "labels=[\"Murder\",\"Rape\",\"Robbery\",\"Riots\"]\n",
    "# x=[murder,rape,robbery,riots]\n",
    "colors = ['#DE87FD','#FF7E7A', '#0CE4F3', '#FFC234']\n",
    "plt.pie(temp, colors= colors, labels=labels, explode = explode,shadow=True,autopct='%1.1f%%',\n",
    "counterclock=True,pctdistance=.72)\n",
    "\n",
    "st1=ss[0]+\" At \"+str(time[0])\n",
    "plt.title(st1)"
   ]
  },
  {
   "cell_type": "code",
   "execution_count": null,
   "metadata": {},
   "outputs": [],
   "source": []
  }
 ],
 "metadata": {
  "kernelspec": {
   "display_name": "Python 3",
   "language": "python",
   "name": "python3"
  },
  "language_info": {
   "codemirror_mode": {
    "name": "ipython",
    "version": 3
   },
   "file_extension": ".py",
   "mimetype": "text/x-python",
   "name": "python",
   "nbconvert_exporter": "python",
   "pygments_lexer": "ipython3",
   "version": "3.7.3"
  }
 },
 "nbformat": 4,
 "nbformat_minor": 2
}
