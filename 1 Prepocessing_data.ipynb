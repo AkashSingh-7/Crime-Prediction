{
 "cells": [
  {
   "cell_type": "code",
   "execution_count": 1,
   "metadata": {},
   "outputs": [],
   "source": [
    "%matplotlib inline\n",
    "import pandas as pd\n",
    "import matplotlib.pyplot as plt\n",
    "import numpy as np"
   ]
  },
  {
   "cell_type": "code",
   "execution_count": 2,
   "metadata": {},
   "outputs": [],
   "source": [
    "ls=['A & N ISLANDS', 'ANDHRA PRADESH', 'ARUNACHAL PRADESH', 'ASSAM', 'BIHAR', 'CHANDIGARH', 'CHHATTISGARH', 'D & N HAVELI', 'DAMAN & DIU', 'DELHI UT', 'GOA', 'GUJARAT', 'HARYANA', 'HIMACHAL PRADESH', 'JAMMU & KASHMIR', 'JHARKHAND', 'KARNATAKA', 'KERALA', 'LAKSHADWEEP', 'MADHYA PRADESH', 'MAHARASHTRA', 'MANIPUR', 'MEGHALAYA', 'MIZORAM', 'NAGALAND', 'ODISHA', 'PUDUCHERRY', 'PUNJAB', 'RAJASTHAN', 'SIKKIM', 'TAMIL NADU', 'TRIPURA', 'UTTAR PRADESH', 'UTTARAKHAND', 'WEST BENGAL']"
   ]
  },
  {
   "cell_type": "code",
   "execution_count": 3,
   "metadata": {},
   "outputs": [
    {
     "name": "stdout",
     "output_type": "stream",
     "text": [
      "0 A & N ISLANDS\n",
      "1 ANDHRA PRADESH\n",
      "2 ARUNACHAL PRADESH\n",
      "3 ASSAM\n",
      "4 BIHAR\n",
      "5 CHANDIGARH\n",
      "6 CHHATTISGARH\n",
      "7 D & N HAVELI\n",
      "8 DAMAN & DIU\n",
      "9 DELHI UT\n",
      "10 GOA\n",
      "11 GUJARAT\n",
      "12 HARYANA\n",
      "13 HIMACHAL PRADESH\n",
      "14 JAMMU & KASHMIR\n",
      "15 JHARKHAND\n",
      "16 KARNATAKA\n",
      "17 KERALA\n",
      "18 LAKSHADWEEP\n",
      "19 MADHYA PRADESH\n",
      "20 MAHARASHTRA\n",
      "21 MANIPUR\n",
      "22 MEGHALAYA\n",
      "23 MIZORAM\n",
      "24 NAGALAND\n",
      "25 ODISHA\n",
      "26 PUDUCHERRY\n",
      "27 PUNJAB\n",
      "28 RAJASTHAN\n",
      "29 SIKKIM\n",
      "30 TAMIL NADU\n",
      "31 TRIPURA\n",
      "32 UTTAR PRADESH\n",
      "33 UTTARAKHAND\n",
      "34 WEST BENGAL\n",
      "\n",
      "\n",
      "\n",
      " Enter Give Number to check crime in that State/UT\n"
     ]
    }
   ],
   "source": [
    "for i in range(35):\n",
    "    print(i,ls[i])\n",
    "print(\"\\n\\n\\n\",\"Enter Give Number to check crime in that State/UT\")"
   ]
  },
  {
   "cell_type": "code",
   "execution_count": 4,
   "metadata": {},
   "outputs": [
    {
     "name": "stdout",
     "output_type": "stream",
     "text": [
      "23\n"
     ]
    }
   ],
   "source": [
    "x=int(input())\n",
    "ds=pd.read_csv(\"crimes.csv\")"
   ]
  },
  {
   "cell_type": "code",
   "execution_count": 5,
   "metadata": {},
   "outputs": [
    {
     "name": "stdout",
     "output_type": "stream",
     "text": [
      "Enter In 24 hrs formate23\n"
     ]
    },
    {
     "data": {
      "text/plain": [
       "['STATE/UT',\n",
       " 'DISTRICT',\n",
       " 'YEAR',\n",
       " 'MURDER',\n",
       " 'ATTEMPT TO MURDER',\n",
       " 'CULPABLE HOMICIDE NOT AMOUNTING TO MURDER',\n",
       " 'RAPE',\n",
       " 'CUSTODIAL RAPE',\n",
       " 'OTHER RAPE',\n",
       " 'KIDNAPPING & ABDUCTION',\n",
       " 'KIDNAPPING AND ABDUCTION OF WOMEN AND GIRLS',\n",
       " 'KIDNAPPING AND ABDUCTION OF OTHERS',\n",
       " 'DACOITY',\n",
       " 'PREPARATION AND ASSEMBLY FOR DACOITY',\n",
       " 'ROBBERY',\n",
       " 'BURGLARY',\n",
       " 'THEFT',\n",
       " 'AUTO THEFT',\n",
       " 'OTHER THEFT',\n",
       " 'RIOTS',\n",
       " 'CRIMINAL BREACH OF TRUST',\n",
       " 'CHEATING',\n",
       " 'COUNTERFIETING',\n",
       " 'ARSON',\n",
       " 'HURT/GREVIOUS HURT',\n",
       " 'DOWRY DEATHS',\n",
       " 'ASSAULT ON WOMEN WITH INTENT TO OUTRAGE HER MODESTY',\n",
       " 'INSULT TO MODESTY OF WOMEN',\n",
       " 'CRUELTY BY HUSBAND OR HIS RELATIVES',\n",
       " 'IMPORTATION OF GIRLS FROM FOREIGN COUNTRIES',\n",
       " 'CAUSING DEATH BY NEGLIGENCE',\n",
       " 'OTHER IPC CRIMES',\n",
       " 'TOTAL IPC CRIMES']"
      ]
     },
     "execution_count": 5,
     "metadata": {},
     "output_type": "execute_result"
    }
   ],
   "source": [
    "time1=int(input(\"Enter In 24 hrs formate\"))\n",
    "ds.columns.tolist()"
   ]
  },
  {
   "cell_type": "code",
   "execution_count": 6,
   "metadata": {},
   "outputs": [
    {
     "data": {
      "text/html": [
       "<div>\n",
       "<style scoped>\n",
       "    .dataframe tbody tr th:only-of-type {\n",
       "        vertical-align: middle;\n",
       "    }\n",
       "\n",
       "    .dataframe tbody tr th {\n",
       "        vertical-align: top;\n",
       "    }\n",
       "\n",
       "    .dataframe thead th {\n",
       "        text-align: right;\n",
       "    }\n",
       "</style>\n",
       "<table border=\"1\" class=\"dataframe\">\n",
       "  <thead>\n",
       "    <tr style=\"text-align: right;\">\n",
       "      <th></th>\n",
       "      <th>STATE/UT</th>\n",
       "      <th>DISTRICT</th>\n",
       "      <th>YEAR</th>\n",
       "      <th>MURDER</th>\n",
       "      <th>ATTEMPT TO MURDER</th>\n",
       "      <th>CULPABLE HOMICIDE NOT AMOUNTING TO MURDER</th>\n",
       "      <th>RAPE</th>\n",
       "      <th>CUSTODIAL RAPE</th>\n",
       "      <th>OTHER RAPE</th>\n",
       "      <th>KIDNAPPING &amp; ABDUCTION</th>\n",
       "      <th>KIDNAPPING AND ABDUCTION OF WOMEN AND GIRLS</th>\n",
       "      <th>KIDNAPPING AND ABDUCTION OF OTHERS</th>\n",
       "      <th>DACOITY</th>\n",
       "      <th>PREPARATION AND ASSEMBLY FOR DACOITY</th>\n",
       "      <th>ROBBERY</th>\n",
       "      <th>BURGLARY</th>\n",
       "      <th>THEFT</th>\n",
       "      <th>AUTO THEFT</th>\n",
       "      <th>OTHER THEFT</th>\n",
       "      <th>RIOTS</th>\n",
       "      <th>CRIMINAL BREACH OF TRUST</th>\n",
       "      <th>CHEATING</th>\n",
       "      <th>COUNTERFIETING</th>\n",
       "      <th>ARSON</th>\n",
       "      <th>HURT/GREVIOUS HURT</th>\n",
       "      <th>DOWRY DEATHS</th>\n",
       "      <th>ASSAULT ON WOMEN WITH INTENT TO OUTRAGE HER MODESTY</th>\n",
       "      <th>INSULT TO MODESTY OF WOMEN</th>\n",
       "      <th>CRUELTY BY HUSBAND OR HIS RELATIVES</th>\n",
       "      <th>IMPORTATION OF GIRLS FROM FOREIGN COUNTRIES</th>\n",
       "      <th>CAUSING DEATH BY NEGLIGENCE</th>\n",
       "      <th>OTHER IPC CRIMES</th>\n",
       "      <th>TOTAL IPC CRIMES</th>\n",
       "    </tr>\n",
       "  </thead>\n",
       "  <tbody>\n",
       "    <tr>\n",
       "      <th>0</th>\n",
       "      <td>ANDHRA PRADESH</td>\n",
       "      <td>ADILABAD</td>\n",
       "      <td>2001</td>\n",
       "      <td>101</td>\n",
       "      <td>60</td>\n",
       "      <td>17</td>\n",
       "      <td>50</td>\n",
       "      <td>0</td>\n",
       "      <td>50</td>\n",
       "      <td>46</td>\n",
       "      <td>30</td>\n",
       "      <td>16</td>\n",
       "      <td>9</td>\n",
       "      <td>0</td>\n",
       "      <td>41</td>\n",
       "      <td>198</td>\n",
       "      <td>199</td>\n",
       "      <td>22</td>\n",
       "      <td>177</td>\n",
       "      <td>78</td>\n",
       "      <td>16</td>\n",
       "      <td>104</td>\n",
       "      <td>1</td>\n",
       "      <td>30</td>\n",
       "      <td>1131</td>\n",
       "      <td>16</td>\n",
       "      <td>149</td>\n",
       "      <td>34</td>\n",
       "      <td>175</td>\n",
       "      <td>0</td>\n",
       "      <td>181</td>\n",
       "      <td>1518</td>\n",
       "      <td>4154</td>\n",
       "    </tr>\n",
       "    <tr>\n",
       "      <th>1</th>\n",
       "      <td>ANDHRA PRADESH</td>\n",
       "      <td>ANANTAPUR</td>\n",
       "      <td>2001</td>\n",
       "      <td>151</td>\n",
       "      <td>125</td>\n",
       "      <td>1</td>\n",
       "      <td>23</td>\n",
       "      <td>0</td>\n",
       "      <td>23</td>\n",
       "      <td>53</td>\n",
       "      <td>30</td>\n",
       "      <td>23</td>\n",
       "      <td>8</td>\n",
       "      <td>0</td>\n",
       "      <td>16</td>\n",
       "      <td>191</td>\n",
       "      <td>366</td>\n",
       "      <td>57</td>\n",
       "      <td>309</td>\n",
       "      <td>168</td>\n",
       "      <td>11</td>\n",
       "      <td>65</td>\n",
       "      <td>8</td>\n",
       "      <td>69</td>\n",
       "      <td>1543</td>\n",
       "      <td>7</td>\n",
       "      <td>118</td>\n",
       "      <td>24</td>\n",
       "      <td>154</td>\n",
       "      <td>0</td>\n",
       "      <td>270</td>\n",
       "      <td>754</td>\n",
       "      <td>4125</td>\n",
       "    </tr>\n",
       "    <tr>\n",
       "      <th>2</th>\n",
       "      <td>ANDHRA PRADESH</td>\n",
       "      <td>CHITTOOR</td>\n",
       "      <td>2001</td>\n",
       "      <td>101</td>\n",
       "      <td>57</td>\n",
       "      <td>2</td>\n",
       "      <td>27</td>\n",
       "      <td>0</td>\n",
       "      <td>27</td>\n",
       "      <td>59</td>\n",
       "      <td>34</td>\n",
       "      <td>25</td>\n",
       "      <td>4</td>\n",
       "      <td>0</td>\n",
       "      <td>14</td>\n",
       "      <td>237</td>\n",
       "      <td>723</td>\n",
       "      <td>164</td>\n",
       "      <td>559</td>\n",
       "      <td>156</td>\n",
       "      <td>33</td>\n",
       "      <td>209</td>\n",
       "      <td>9</td>\n",
       "      <td>38</td>\n",
       "      <td>2088</td>\n",
       "      <td>14</td>\n",
       "      <td>112</td>\n",
       "      <td>83</td>\n",
       "      <td>186</td>\n",
       "      <td>0</td>\n",
       "      <td>404</td>\n",
       "      <td>1262</td>\n",
       "      <td>5818</td>\n",
       "    </tr>\n",
       "    <tr>\n",
       "      <th>3</th>\n",
       "      <td>ANDHRA PRADESH</td>\n",
       "      <td>CUDDAPAH</td>\n",
       "      <td>2001</td>\n",
       "      <td>80</td>\n",
       "      <td>53</td>\n",
       "      <td>1</td>\n",
       "      <td>20</td>\n",
       "      <td>0</td>\n",
       "      <td>20</td>\n",
       "      <td>25</td>\n",
       "      <td>20</td>\n",
       "      <td>5</td>\n",
       "      <td>1</td>\n",
       "      <td>0</td>\n",
       "      <td>4</td>\n",
       "      <td>98</td>\n",
       "      <td>173</td>\n",
       "      <td>36</td>\n",
       "      <td>137</td>\n",
       "      <td>164</td>\n",
       "      <td>12</td>\n",
       "      <td>37</td>\n",
       "      <td>2</td>\n",
       "      <td>23</td>\n",
       "      <td>795</td>\n",
       "      <td>17</td>\n",
       "      <td>126</td>\n",
       "      <td>38</td>\n",
       "      <td>57</td>\n",
       "      <td>0</td>\n",
       "      <td>233</td>\n",
       "      <td>1181</td>\n",
       "      <td>3140</td>\n",
       "    </tr>\n",
       "    <tr>\n",
       "      <th>4</th>\n",
       "      <td>ANDHRA PRADESH</td>\n",
       "      <td>EAST GODAVARI</td>\n",
       "      <td>2001</td>\n",
       "      <td>82</td>\n",
       "      <td>67</td>\n",
       "      <td>1</td>\n",
       "      <td>23</td>\n",
       "      <td>0</td>\n",
       "      <td>23</td>\n",
       "      <td>49</td>\n",
       "      <td>26</td>\n",
       "      <td>23</td>\n",
       "      <td>4</td>\n",
       "      <td>0</td>\n",
       "      <td>25</td>\n",
       "      <td>437</td>\n",
       "      <td>1021</td>\n",
       "      <td>150</td>\n",
       "      <td>871</td>\n",
       "      <td>70</td>\n",
       "      <td>50</td>\n",
       "      <td>220</td>\n",
       "      <td>3</td>\n",
       "      <td>41</td>\n",
       "      <td>1244</td>\n",
       "      <td>12</td>\n",
       "      <td>109</td>\n",
       "      <td>58</td>\n",
       "      <td>247</td>\n",
       "      <td>0</td>\n",
       "      <td>431</td>\n",
       "      <td>2313</td>\n",
       "      <td>6507</td>\n",
       "    </tr>\n",
       "  </tbody>\n",
       "</table>\n",
       "</div>"
      ],
      "text/plain": [
       "         STATE/UT       DISTRICT  YEAR  MURDER  ATTEMPT TO MURDER  \\\n",
       "0  ANDHRA PRADESH       ADILABAD  2001     101                 60   \n",
       "1  ANDHRA PRADESH      ANANTAPUR  2001     151                125   \n",
       "2  ANDHRA PRADESH       CHITTOOR  2001     101                 57   \n",
       "3  ANDHRA PRADESH       CUDDAPAH  2001      80                 53   \n",
       "4  ANDHRA PRADESH  EAST GODAVARI  2001      82                 67   \n",
       "\n",
       "   CULPABLE HOMICIDE NOT AMOUNTING TO MURDER  RAPE  CUSTODIAL RAPE  \\\n",
       "0                                         17    50               0   \n",
       "1                                          1    23               0   \n",
       "2                                          2    27               0   \n",
       "3                                          1    20               0   \n",
       "4                                          1    23               0   \n",
       "\n",
       "   OTHER RAPE  KIDNAPPING & ABDUCTION  \\\n",
       "0          50                      46   \n",
       "1          23                      53   \n",
       "2          27                      59   \n",
       "3          20                      25   \n",
       "4          23                      49   \n",
       "\n",
       "   KIDNAPPING AND ABDUCTION OF WOMEN AND GIRLS  \\\n",
       "0                                           30   \n",
       "1                                           30   \n",
       "2                                           34   \n",
       "3                                           20   \n",
       "4                                           26   \n",
       "\n",
       "   KIDNAPPING AND ABDUCTION OF OTHERS  DACOITY  \\\n",
       "0                                  16        9   \n",
       "1                                  23        8   \n",
       "2                                  25        4   \n",
       "3                                   5        1   \n",
       "4                                  23        4   \n",
       "\n",
       "   PREPARATION AND ASSEMBLY FOR DACOITY  ROBBERY  BURGLARY  THEFT  AUTO THEFT  \\\n",
       "0                                     0       41       198    199          22   \n",
       "1                                     0       16       191    366          57   \n",
       "2                                     0       14       237    723         164   \n",
       "3                                     0        4        98    173          36   \n",
       "4                                     0       25       437   1021         150   \n",
       "\n",
       "   OTHER THEFT  RIOTS  CRIMINAL BREACH OF TRUST  CHEATING  COUNTERFIETING  \\\n",
       "0          177     78                        16       104               1   \n",
       "1          309    168                        11        65               8   \n",
       "2          559    156                        33       209               9   \n",
       "3          137    164                        12        37               2   \n",
       "4          871     70                        50       220               3   \n",
       "\n",
       "   ARSON  HURT/GREVIOUS HURT  DOWRY DEATHS  \\\n",
       "0     30                1131            16   \n",
       "1     69                1543             7   \n",
       "2     38                2088            14   \n",
       "3     23                 795            17   \n",
       "4     41                1244            12   \n",
       "\n",
       "   ASSAULT ON WOMEN WITH INTENT TO OUTRAGE HER MODESTY  \\\n",
       "0                                                149     \n",
       "1                                                118     \n",
       "2                                                112     \n",
       "3                                                126     \n",
       "4                                                109     \n",
       "\n",
       "   INSULT TO MODESTY OF WOMEN  CRUELTY BY HUSBAND OR HIS RELATIVES  \\\n",
       "0                          34                                  175   \n",
       "1                          24                                  154   \n",
       "2                          83                                  186   \n",
       "3                          38                                   57   \n",
       "4                          58                                  247   \n",
       "\n",
       "   IMPORTATION OF GIRLS FROM FOREIGN COUNTRIES  CAUSING DEATH BY NEGLIGENCE  \\\n",
       "0                                            0                          181   \n",
       "1                                            0                          270   \n",
       "2                                            0                          404   \n",
       "3                                            0                          233   \n",
       "4                                            0                          431   \n",
       "\n",
       "   OTHER IPC CRIMES  TOTAL IPC CRIMES  \n",
       "0              1518              4154  \n",
       "1               754              4125  \n",
       "2              1262              5818  \n",
       "3              1181              3140  \n",
       "4              2313              6507  "
      ]
     },
     "execution_count": 6,
     "metadata": {},
     "output_type": "execute_result"
    }
   ],
   "source": [
    "pd.set_option('display.max_columns', None) #To get All the Columns\n",
    "ds.head()"
   ]
  },
  {
   "cell_type": "code",
   "execution_count": 7,
   "metadata": {},
   "outputs": [],
   "source": [
    "\n",
    "ds2=ds[[\"STATE/UT\",\"MURDER\",\"RAPE\",\"ROBBERY\",\"RIOTS\"]]"
   ]
  },
  {
   "cell_type": "code",
   "execution_count": 8,
   "metadata": {},
   "outputs": [],
   "source": [
    "dss=ds2\n"
   ]
  },
  {
   "cell_type": "code",
   "execution_count": 9,
   "metadata": {},
   "outputs": [
    {
     "name": "stderr",
     "output_type": "stream",
     "text": [
      "C:\\Users\\hp\\Anaconda3\\lib\\site-packages\\ipykernel_launcher.py:1: SettingWithCopyWarning: \n",
      "A value is trying to be set on a copy of a slice from a DataFrame.\n",
      "Try using .loc[row_indexer,col_indexer] = value instead\n",
      "\n",
      "See the caveats in the documentation: http://pandas.pydata.org/pandas-docs/stable/indexing.html#indexing-view-versus-copy\n",
      "  \"\"\"Entry point for launching an IPython kernel.\n"
     ]
    }
   ],
   "source": [
    "ds2[\"RAPE\"]+=ds[\"OTHER RAPE\"]"
   ]
  },
  {
   "cell_type": "code",
   "execution_count": 10,
   "metadata": {},
   "outputs": [
    {
     "name": "stdout",
     "output_type": "stream",
     "text": [
      "['A & N ISLANDS', 'ANDHRA PRADESH', 'ARUNACHAL PRADESH', 'ASSAM', 'BIHAR', 'CHANDIGARH', 'CHHATTISGARH', 'D & N HAVELI', 'DAMAN & DIU', 'DELHI UT', 'GOA', 'GUJARAT', 'HARYANA', 'HIMACHAL PRADESH', 'JAMMU & KASHMIR', 'JHARKHAND', 'KARNATAKA', 'KERALA', 'LAKSHADWEEP', 'MADHYA PRADESH', 'MAHARASHTRA', 'MANIPUR', 'MEGHALAYA', 'MIZORAM', 'NAGALAND', 'ODISHA', 'PUDUCHERRY', 'PUNJAB', 'RAJASTHAN', 'SIKKIM', 'TAMIL NADU', 'TRIPURA', 'UTTAR PRADESH', 'UTTARAKHAND', 'WEST BENGAL']\n"
     ]
    }
   ],
   "source": [
    "x1=set(ds[\"STATE/UT\"])\n",
    "print(sorted(x1))"
   ]
  },
  {
   "cell_type": "code",
   "execution_count": 11,
   "metadata": {},
   "outputs": [
    {
     "name": "stderr",
     "output_type": "stream",
     "text": [
      "C:\\Users\\hp\\Anaconda3\\lib\\site-packages\\ipykernel_launcher.py:3: SettingWithCopyWarning: \n",
      "A value is trying to be set on a copy of a slice from a DataFrame.\n",
      "Try using .loc[row_indexer,col_indexer] = value instead\n",
      "\n",
      "See the caveats in the documentation: http://pandas.pydata.org/pandas-docs/stable/indexing.html#indexing-view-versus-copy\n",
      "  This is separate from the ipykernel package so we can avoid doing imports until\n"
     ]
    }
   ],
   "source": [
    "from sklearn.preprocessing import LabelEncoder\n",
    "le=LabelEncoder()\n",
    "ds2[\"StateLabel\"]=le.fit_transform(ds2[\"STATE/UT\"])"
   ]
  },
  {
   "cell_type": "code",
   "execution_count": 26,
   "metadata": {},
   "outputs": [
    {
     "name": "stderr",
     "output_type": "stream",
     "text": [
      "C:\\Users\\hp\\Anaconda3\\lib\\site-packages\\ipykernel_launcher.py:2: SettingWithCopyWarning: \n",
      "A value is trying to be set on a copy of a slice from a DataFrame.\n",
      "Try using .loc[row_indexer,col_indexer] = value instead\n",
      "\n",
      "See the caveats in the documentation: http://pandas.pydata.org/pandas-docs/stable/indexing.html#indexing-view-versus-copy\n",
      "  \n",
      "C:\\Users\\hp\\Anaconda3\\lib\\site-packages\\ipykernel_launcher.py:3: SettingWithCopyWarning: \n",
      "A value is trying to be set on a copy of a slice from a DataFrame.\n",
      "Try using .loc[row_indexer,col_indexer] = value instead\n",
      "\n",
      "See the caveats in the documentation: http://pandas.pydata.org/pandas-docs/stable/indexing.html#indexing-view-versus-copy\n",
      "  This is separate from the ipykernel package so we can avoid doing imports until\n"
     ]
    },
    {
     "data": {
      "text/html": [
       "<div>\n",
       "<style scoped>\n",
       "    .dataframe tbody tr th:only-of-type {\n",
       "        vertical-align: middle;\n",
       "    }\n",
       "\n",
       "    .dataframe tbody tr th {\n",
       "        vertical-align: top;\n",
       "    }\n",
       "\n",
       "    .dataframe thead th {\n",
       "        text-align: right;\n",
       "    }\n",
       "</style>\n",
       "<table border=\"1\" class=\"dataframe\">\n",
       "  <thead>\n",
       "    <tr style=\"text-align: right;\">\n",
       "      <th></th>\n",
       "      <th>STATE/UT</th>\n",
       "      <th>MURDER</th>\n",
       "      <th>RAPE</th>\n",
       "      <th>ROBBERY</th>\n",
       "      <th>RIOTS</th>\n",
       "      <th>StateLabel</th>\n",
       "      <th>Time</th>\n",
       "    </tr>\n",
       "  </thead>\n",
       "  <tbody>\n",
       "    <tr>\n",
       "      <th>0</th>\n",
       "      <td>ANDHRA PRADESH</td>\n",
       "      <td>101</td>\n",
       "      <td>100</td>\n",
       "      <td>41</td>\n",
       "      <td>18</td>\n",
       "      <td>1</td>\n",
       "      <td>22</td>\n",
       "    </tr>\n",
       "    <tr>\n",
       "      <th>1</th>\n",
       "      <td>ANDHRA PRADESH</td>\n",
       "      <td>151</td>\n",
       "      <td>46</td>\n",
       "      <td>16</td>\n",
       "      <td>8</td>\n",
       "      <td>1</td>\n",
       "      <td>3</td>\n",
       "    </tr>\n",
       "    <tr>\n",
       "      <th>2</th>\n",
       "      <td>ANDHRA PRADESH</td>\n",
       "      <td>101</td>\n",
       "      <td>54</td>\n",
       "      <td>14</td>\n",
       "      <td>16</td>\n",
       "      <td>1</td>\n",
       "      <td>6</td>\n",
       "    </tr>\n",
       "    <tr>\n",
       "      <th>3</th>\n",
       "      <td>ANDHRA PRADESH</td>\n",
       "      <td>80</td>\n",
       "      <td>40</td>\n",
       "      <td>4</td>\n",
       "      <td>4</td>\n",
       "      <td>1</td>\n",
       "      <td>21</td>\n",
       "    </tr>\n",
       "    <tr>\n",
       "      <th>4</th>\n",
       "      <td>ANDHRA PRADESH</td>\n",
       "      <td>82</td>\n",
       "      <td>46</td>\n",
       "      <td>25</td>\n",
       "      <td>10</td>\n",
       "      <td>1</td>\n",
       "      <td>5</td>\n",
       "    </tr>\n",
       "  </tbody>\n",
       "</table>\n",
       "</div>"
      ],
      "text/plain": [
       "         STATE/UT  MURDER  RAPE  ROBBERY  RIOTS  StateLabel  Time\n",
       "0  ANDHRA PRADESH     101   100       41     18           1    22\n",
       "1  ANDHRA PRADESH     151    46       16      8           1     3\n",
       "2  ANDHRA PRADESH     101    54       14     16           1     6\n",
       "3  ANDHRA PRADESH      80    40        4      4           1    21\n",
       "4  ANDHRA PRADESH      82    46       25     10           1     5"
      ]
     },
     "execution_count": 26,
     "metadata": {},
     "output_type": "execute_result"
    }
   ],
   "source": [
    "\n",
    "ds2[\"RIOTS\"]=ds2[\"RIOTS\"]%20\n",
    "ds2[\"ROBBERY\"]=ds2[\"ROBBERY\"]%400\n",
    "ds2.head()"
   ]
  },
  {
   "cell_type": "code",
   "execution_count": 27,
   "metadata": {},
   "outputs": [],
   "source": [
    "# lr.fit(X_train,y_train)\n"
   ]
  },
  {
   "cell_type": "code",
   "execution_count": 28,
   "metadata": {},
   "outputs": [
    {
     "name": "stderr",
     "output_type": "stream",
     "text": [
      "C:\\Users\\hp\\Anaconda3\\lib\\site-packages\\ipykernel_launcher.py:2: SettingWithCopyWarning: \n",
      "A value is trying to be set on a copy of a slice from a DataFrame.\n",
      "Try using .loc[row_indexer,col_indexer] = value instead\n",
      "\n",
      "See the caveats in the documentation: http://pandas.pydata.org/pandas-docs/stable/indexing.html#indexing-view-versus-copy\n",
      "  \n"
     ]
    }
   ],
   "source": [
    "list11=[0,1,2,3,4,5,6,20,21,22,23,24]\n",
    "ds2[\"Time\"]=np.random.choice(list11,size=9017) \n",
    "ds2.head()\n",
    "ds2.to_csv(\"NewData.csv\")"
   ]
  },
  {
   "cell_type": "code",
   "execution_count": 29,
   "metadata": {},
   "outputs": [
    {
     "data": {
      "text/plain": [
       "7.71"
      ]
     },
     "execution_count": 29,
     "metadata": {},
     "output_type": "execute_result"
    }
   ],
   "source": [
    "from sklearn.linear_model import LinearRegression\n",
    "from sklearn.model_selection import train_test_split\n",
    "ds3=ds2[ds2[\"StateLabel\"]==x]\n",
    "x1=np.array(ds3[\"Time\"])\n",
    "\n",
    "time =np.array([time1])\n",
    "\n",
    "x1.reshape(-1, 1)\n",
    "X_train,X_test,y_train,y_test=train_test_split(x1.reshape(-1,1),ds3[\"MURDER\"],random_state=100)\n",
    "lr=LinearRegression()\n",
    "lr.fit(X_train,y_train)\n",
    "murder_per=round(lr.predict(time.reshape(-1,1))[0],2)\n",
    "murder_per"
   ]
  },
  {
   "cell_type": "markdown",
   "metadata": {},
   "source": [
    "###### "
   ]
  },
  {
   "cell_type": "code",
   "execution_count": 30,
   "metadata": {},
   "outputs": [
    {
     "data": {
      "text/plain": [
       "29.11"
      ]
     },
     "execution_count": 30,
     "metadata": {},
     "output_type": "execute_result"
    }
   ],
   "source": [
    "from sklearn.linear_model import LinearRegression\n",
    "from sklearn.model_selection import train_test_split\n",
    "ds3=ds2[ds2[\"StateLabel\"]==x]\n",
    "x1=np.array(ds3[\"Time\"])\n",
    "\n",
    "time =np.array([time1])\n",
    "\n",
    "x1.reshape(-1, 1)\n",
    "X_train,X_test,y_train,y_test=train_test_split(x1.reshape(-1,1),ds3[\"RAPE\"],random_state=100)\n",
    "lr=LinearRegression()\n",
    "lr.fit(X_train,y_train)\n",
    "rape_per=round(lr.predict(time.reshape(-1,1))[0],2)\n",
    "rape_per"
   ]
  },
  {
   "cell_type": "code",
   "execution_count": 31,
   "metadata": {},
   "outputs": [
    {
     "data": {
      "text/plain": [
       "1.95"
      ]
     },
     "execution_count": 31,
     "metadata": {},
     "output_type": "execute_result"
    }
   ],
   "source": [
    "from sklearn.linear_model import LinearRegression\n",
    "from sklearn.model_selection import train_test_split\n",
    "ds3=ds2[ds2[\"StateLabel\"]==x]\n",
    "x1=np.array(ds3[\"Time\"])\n",
    "time =np.array([time1])\n",
    "\n",
    "x1.reshape(-1, 1)\n",
    "X_train,X_test,y_train,y_test=train_test_split(x1.reshape(-1,1),ds3[\"ROBBERY\"],random_state=100)\n",
    "lr=LinearRegression()\n",
    "lr.fit(X_train,y_train)\n",
    "rob_per=round(lr.predict(time.reshape(-1,1))[0],2)\n",
    "rob_per"
   ]
  },
  {
   "cell_type": "code",
   "execution_count": 32,
   "metadata": {},
   "outputs": [
    {
     "data": {
      "text/plain": [
       "0.78"
      ]
     },
     "execution_count": 32,
     "metadata": {},
     "output_type": "execute_result"
    }
   ],
   "source": [
    "from sklearn.linear_model import LinearRegression\n",
    "from sklearn.model_selection import train_test_split\n",
    "ds3=ds2[ds2[\"StateLabel\"]==x]\n",
    "x1=np.array(ds3[\"Time\"])\n",
    "\n",
    "time =np.array([time1])\n",
    "\n",
    "x1.reshape(-1, 1)\n",
    "X_train,X_test,y_train,y_test=train_test_split(x1.reshape(-1,1),ds3[\"RIOTS\"],random_state=100)\n",
    "lr=LinearRegression()\n",
    "lr.fit(X_train,y_train)\n",
    "riots_per=round(lr.predict(time.reshape(-1,1))[0],2)\n",
    "riots_per\n"
   ]
  },
  {
   "cell_type": "code",
   "execution_count": 33,
   "metadata": {},
   "outputs": [
    {
     "data": {
      "text/plain": [
       "MURDER      7.462963\n",
       "RAPE       30.574074\n",
       "ROBBERY     2.111111\n",
       "RIOTS       0.703704\n",
       "dtype: float64"
      ]
     },
     "execution_count": 33,
     "metadata": {},
     "output_type": "execute_result"
    }
   ],
   "source": [
    "y=ds2[ds2[\"StateLabel\"]==x]\n",
    "y=y[[\"MURDER\",\"RAPE\",\"ROBBERY\",\"RIOTS\"]]\n",
    "temp=y.mean()\n",
    "temp"
   ]
  },
  {
   "cell_type": "code",
   "execution_count": 34,
   "metadata": {},
   "outputs": [],
   "source": [
    "ts=temp.sum()"
   ]
  },
  {
   "cell_type": "code",
   "execution_count": 35,
   "metadata": {},
   "outputs": [],
   "source": [
    "murder=round((temp[0]/ts)*100,2)\n",
    "rape=round((temp[1]/ts)*100,2)\n",
    "robbery=round((temp[2]/ts)*100,2)\n",
    "riots=round((temp[3]/ts)*100,2)\n",
    "lis=ds2[ds2[\"StateLabel\"]==x][\"STATE/UT\"]\n",
    "ss=lis.head(1);\n",
    "ss.index=[0]"
   ]
  },
  {
   "cell_type": "code",
   "execution_count": 36,
   "metadata": {
    "scrolled": true
   },
   "outputs": [
    {
     "name": "stdout",
     "output_type": "stream",
     "text": [
      "murder   rape    robbery   riots\n",
      "18.27%    74.84%    5.17%    1.72%    \n"
     ]
    }
   ],
   "source": [
    "print(\"murder\",\"  rape\",\"   robbery\",\"  riots\")\n",
    "print(murder,rape,robbery,riots,\"\",sep='%    ')"
   ]
  },
  {
   "cell_type": "code",
   "execution_count": 37,
   "metadata": {},
   "outputs": [
    {
     "data": {
      "text/plain": [
       "Text(0.5, 1.0, 'MIZORAM At 23')"
      ]
     },
     "execution_count": 37,
     "metadata": {},
     "output_type": "execute_result"
    },
    {
     "data": {
      "image/png": "[encoded data removed]",
      "text/plain": [
       "<Figure size 432x288 with 1 Axes>"
      ]
     },
     "metadata": {},
     "output_type": "display_data"
    }
   ],
   "source": [
    "temp=[murder_per,rape_per,rob_per,riots_per]\n",
    "explode = [0.05,0.05, 0.05,0.05]\n",
    "labels=[\"Murder\",\"Rape\",\"Robbery\",\"Riots\"]\n",
    "# x=[murder,rape,robbery,riots]\n",
    "colors = ['#DE87FD','#FF7E7A', '#0CE4F3', '#FFC234']\n",
    "plt.pie(temp, colors= colors, labels=labels, explode = explode,shadow=True,autopct='%1.1f%%',\n",
    "counterclock=True,pctdistance=.72)\n",
    "\n",
    "st1=ss[0]+\" At \"+str(time[0])\n",
    "plt.title(st1)"
   ]
  },
  {
   "cell_type": "code",
   "execution_count": null,
   "metadata": {},
   "outputs": [],
   "source": []
  },
  {
   "cell_type": "code",
   "execution_count": null,
   "metadata": {},
   "outputs": [],
   "source": []
  }
 ],
 "metadata": {
  "kernelspec": {
   "display_name": "Python 3",
   "language": "python",
   "name": "python3"
  },
  "language_info": {
   "codemirror_mode": {
    "name": "ipython",
    "version": 3
   },
   "file_extension": ".py",
   "mimetype": "text/x-python",
   "name": "python",
   "nbconvert_exporter": "python",
   "pygments_lexer": "ipython3",
   "version": "3.7.3"
  }
 },
 "nbformat": 4,
 "nbformat_minor": 2
}
