{
 "cells": [
  {
   "cell_type": "code",
   "execution_count": 1,
   "metadata": {},
   "outputs": [],
   "source": [
    "from tkinter import * \n",
    "import matplotlib.pyplot as plt\n",
    "from matplotlib.backends.backend_tkagg import FigureCanvasTkAgg\n",
    "import numpy as np\n",
    "from sklearn.linear_model import LinearRegression\n",
    "from sklearn.model_selection import train_test_split\n",
    "import pandas as pd"
   ]
  },
  {
   "cell_type": "code",
   "execution_count": 2,
   "metadata": {},
   "outputs": [
    {
     "data": {
      "image/png": "[encoded data removed]",
      "text/plain": [
       "<Figure size 432x288 with 1 Axes>"
      ]
     },
     "metadata": {},
     "output_type": "display_data"
    }
   ],
   "source": [
    "def show():\n",
    "#     time=entry.get()\n",
    "#     ent.set()\n",
    "#     time=type(int(ee1.get()))\n",
    "#     x=type(int(rbvalue.get()))\n",
    "#     print(time,x)\n",
    "\n",
    "    time1=int(ee1.get())\n",
    "    x=int(rbvalue.get())\n",
    "    \n",
    "    ds2=pd.read_csv(\"main_data.csv\")\n",
    "\n",
    "    ds3=ds2[ds2[\"StateLabel\"]==x]\n",
    "    x1=np.array(ds3[\"Time\"])\n",
    "\n",
    "    time =np.array([time1])\n",
    "\n",
    "    x1.reshape(-1, 1)\n",
    "    X_train,X_test,y_train,y_test=train_test_split(x1.reshape(-1,1),ds3[\"MURDER\"],random_state=100)\n",
    "    lr=LinearRegression()\n",
    "    lr.fit(X_train,y_train)\n",
    "    murder_per=round(lr.predict(time.reshape(-1,1))[0],2)\n",
    "\n",
    "    ds3=ds2[ds2[\"StateLabel\"]==x]\n",
    "    x1=np.array(ds3[\"Time\"])\n",
    "\n",
    "    time =np.array([time1])\n",
    "\n",
    "    x1.reshape(-1, 1)\n",
    "    X_train,X_test,y_train,y_test=train_test_split(x1.reshape(-1,1),ds3[\"RAPE\"],random_state=100)\n",
    "    lr=LinearRegression()\n",
    "    lr.fit(X_train,y_train)\n",
    "    rape_per=round(lr.predict(time.reshape(-1,1))[0],2)\n",
    "\n",
    "\n",
    "    ds3=ds2[ds2[\"StateLabel\"]==x]\n",
    "    x1=np.array(ds3[\"Time\"])\n",
    "    time =np.array([time1])\n",
    "\n",
    "    x1.reshape(-1, 1)\n",
    "    X_train,X_test,y_train,y_test=train_test_split(x1.reshape(-1,1),ds3[\"ROBBERY\"],random_state=100)\n",
    "    lr=LinearRegression()\n",
    "    lr.fit(X_train,y_train)\n",
    "    rob_per=round(lr.predict(time.reshape(-1,1))[0],2)\n",
    "\n",
    "\n",
    "    ds3=ds2[ds2[\"StateLabel\"]==x]\n",
    "    x1=np.array(ds3[\"Time\"])\n",
    "\n",
    "    time =np.array([time1])\n",
    "\n",
    "    x1.reshape(-1, 1)\n",
    "    X_train,X_test,y_train,y_test=train_test_split(x1.reshape(-1,1),ds3[\"RIOTS\"],random_state=100)\n",
    "    lr=LinearRegression()\n",
    "    lr.fit(X_train,y_train)\n",
    "    riots_per=round(lr.predict(time.reshape(-1,1))[0],2)\n",
    "    riots_per\n",
    "\n",
    "    y=ds2[ds2[\"StateLabel\"]==x]\n",
    "    y=y[[\"MURDER\",\"RAPE\",\"ROBBERY\",\"RIOTS\"]]\n",
    "    temp=y.mean()\n",
    "    ts=temp.sum()\n",
    "\n",
    "    murder=round((temp[0]/ts)*100,2)\n",
    "    rape=round((temp[1]/ts)*100,2)\n",
    "    robbery=round((temp[2]/ts)*100,2)\n",
    "    riots=round((temp[3]/ts)*100,2)\n",
    "    lis=ds2[ds2[\"StateLabel\"]==x][\"STATE/UT\"]\n",
    "    ss=lis.head(1);\n",
    "    ss.index=[0]\n",
    "\n",
    "    temp=[murder_per,rape_per,rob_per,riots_per]\n",
    "    explode = [0.05,0.05, 0.05,0.05]\n",
    "    labels=[\"Murder\",\"Rape\",\"Robbery\",\"Riots\"]\n",
    "    # x=[murder,rape,robbery,riots]\n",
    "    colors = ['#DE87FD','#FF7E7A', '#0CE4F3', '#FFC234']\n",
    "    plt.pie(temp, colors= colors, labels=labels, explode = explode,shadow=True,autopct='%1.1f%%',\n",
    "    counterclock=True,pctdistance=.72)\n",
    "\n",
    "    st1=ss[0]+\" At \"+str(time[0])\n",
    "    plt.title(st1)\n",
    "    \n",
    "    \n",
    "    \n",
    "root=Tk()\n",
    "rbvalue=IntVar()\n",
    "ent=StringVar()\n",
    "ent.set(\"\")\n",
    "\n",
    "Label(root).grid(row=0,column=0,padx=98,pady=20)\n",
    "Label(root).grid(row=0,column=1,padx=98)\n",
    "Label(root).grid(row=0,column=2,padx=98)\n",
    "Label(root).grid(row=0,column=3,padx=98)\n",
    "Label(root).grid(row=0,column=4,padx=98)\n",
    "Label(root).grid(row=0,column=5,padx=98)\n",
    "Label(root).grid(row=0,column=6,padx=98)\n",
    "Label(root,text=\"Select a State:\").grid(row=0,column=3)\n",
    "\n",
    "Radiobutton(root,text=\"A & N ISLANDS\",value=0,variable=rbvalue).grid(row=1,column=0,sticky=W,ipadx=10,ipady=3)\n",
    "Radiobutton(root,text=\"ANDHRA PRADESH\",value=1,variable=rbvalue).grid(row=1,column=1,sticky=W,ipadx=10)\n",
    "Radiobutton(root,text=\"ARUNACHAL PRADESH\",value=2,variable=rbvalue).grid(row=1,column=2,ipadx=10,sticky=W)\n",
    "Radiobutton(root,text=\"ASSAM\",value=3,variable=rbvalue).grid(row=1,column=3,ipadx=10,sticky=W)\n",
    "Radiobutton(root,text=\"BIHAR\",value=4,variable=rbvalue).grid(row=1,column=4,ipadx=10,sticky=W)\n",
    "Radiobutton(root,text=\"CHANDIGARH\",value=5,variable=rbvalue).grid(row=1,column=5,ipadx=10,sticky=W)\n",
    "Radiobutton(root,text=\"CHHATTISGARH\",value=6,variable=rbvalue).grid(row=1,column=6,ipadx=10,sticky=W)\n",
    "\n",
    "Radiobutton(root,text=\"D & N HAVELI\",value=7,variable=rbvalue).grid(row=2,column=0,ipadx=10,sticky=W,ipady=3)\n",
    "Radiobutton(root,text=\"DAMAN & DIU\",value=8,variable=rbvalue).grid(row=2,column=1,ipadx=10,sticky=W)\n",
    "Radiobutton(root,text=\"DELHI UT\",value=9,variable=rbvalue).grid(row=2,column=2,ipadx=10,sticky=W)\n",
    "Radiobutton(root,text=\"GOA\",value=10,variable=rbvalue).grid(row=2,column=3,ipadx=10,sticky=W)\n",
    "Radiobutton(root,text=\"GUJARAT\",value=11,variable=rbvalue).grid(row=2,column=4,ipadx=10,sticky=W)\n",
    "Radiobutton(root,text=\"HARYANA\",value=12,variable=rbvalue).grid(row=2,column=5,ipadx=10,sticky=W)\n",
    "Radiobutton(root,text=\"HIMACHAL PRADESH\",value=13,variable=rbvalue).grid(row=2,column=6,ipadx=10,sticky=W)\n",
    "\n",
    "Radiobutton(root,text=\"JAMMU & KASHMIR\",value=14,variable=rbvalue).grid(row=3,column=0,ipadx=10,sticky=W,ipady=3)\n",
    "Radiobutton(root,text=\"JHARKHAND\",value=15,variable=rbvalue).grid(row=3,column=1,ipadx=10,sticky=W)\n",
    "Radiobutton(root,text=\"KARNATAKA\",value=16,variable=rbvalue).grid(row=3,column=2,ipadx=10,sticky=W)\n",
    "Radiobutton(root,text=\"KERALA\",value=17,variable=rbvalue).grid(row=3,column=3,ipadx=10,sticky=W)\n",
    "Radiobutton(root,text=\"LAKSHADWEEP\",value=18,variable=rbvalue).grid(row=3,column=4,ipadx=10,sticky=W)\n",
    "Radiobutton(root,text=\"MADHYA PRADESH\",value=19,variable=rbvalue).grid(row=3,column=5,ipadx=10,sticky=W)\n",
    "Radiobutton(root,text=\"MAHARASHTRA\",value=20,variable=rbvalue).grid(row=3,column=6,ipadx=10,sticky=W)\n",
    "\n",
    "Radiobutton(root,text=\"MANIPUR\",value=21,variable=rbvalue).grid(row=4,column=0,ipadx=10,sticky=W,ipady=3)\n",
    "Radiobutton(root,text=\"MEGHALAYA\",value=22,variable=rbvalue).grid(row=4,column=1,ipadx=10,sticky=W)\n",
    "Radiobutton(root,text=\"MIZORAM\",value=23,variable=rbvalue).grid(row=4,column=2,ipadx=10,sticky=W)\n",
    "Radiobutton(root,text=\"NAGALAND\",value=24,variable=rbvalue).grid(row=4,column=3,ipadx=10,sticky=W)\n",
    "Radiobutton(root,text=\"ODISHA\",value=25,variable=rbvalue).grid(row=4,column=4,ipadx=10,sticky=W)\n",
    "Radiobutton(root,text=\"PUDUCHERRY\",value=26,variable=rbvalue).grid(row=4,column=5,ipadx=10,sticky=W)\n",
    "Radiobutton(root,text=\"PUNJAB\",value=27,variable=rbvalue).grid(row=4,column=6,ipadx=10,sticky=W)\n",
    "\n",
    "Radiobutton(root,text=\"RAJASTHAN\",value=28,variable=rbvalue).grid(row=5,column=0,ipadx=10,sticky=W,ipady=3)\n",
    "Radiobutton(root,text=\"SIKKIM\",value=29,variable=rbvalue).grid(row=5,column=1,ipadx=10,sticky=W)\n",
    "Radiobutton(root,text=\"TAMIL NADU\",value=30,variable=rbvalue).grid(row=5,column=2,ipadx=10,sticky=W)\n",
    "Radiobutton(root,text=\"TRIPURA\",value=31,variable=rbvalue).grid(row=5,column=3,ipadx=10,sticky=W)\n",
    "Radiobutton(root,text=\"UTTAR PRADESH\",value=32,variable=rbvalue).grid(row=5,column=4,ipadx=10,sticky=W)\n",
    "Radiobutton(root,text=\"UTTARAKHAND\",value=33,variable=rbvalue).grid(row=5,column=5,ipadx=10,sticky=W)\n",
    "Radiobutton(root,text=\"WEST BENGAL\",value=34,variable=rbvalue).grid(row=5,column=6,ipadx=10,sticky=W)\n",
    "\n",
    "Label(root,text=\"Enter Time in (24H) format:\").grid(row=6,column=0,sticky=E)\n",
    "ee1=Entry(root)\n",
    "ee1.grid(row=6,column=2,pady=20,sticky=W)\n",
    "\n",
    "Button(root,text=\"Show Pie Chart\",command=show).grid(row=7,column=3)\n",
    "\n",
    "Label(root).grid(row=7,column=0,pady=20)\n",
    "\n",
    "\n",
    "   \n",
    "\n",
    "\n",
    "\n",
    "\n",
    "\n",
    "\n",
    "\n",
    "\n",
    "root.mainloop()"
   ]
  },
  {
   "cell_type": "code",
   "execution_count": null,
   "metadata": {},
   "outputs": [],
   "source": []
  },
  {
   "cell_type": "code",
   "execution_count": null,
   "metadata": {},
   "outputs": [],
   "source": []
  },
  {
   "cell_type": "code",
   "execution_count": null,
   "metadata": {},
   "outputs": [],
   "source": []
  },
  {
   "cell_type": "code",
   "execution_count": null,
   "metadata": {},
   "outputs": [],
   "source": []
  },
  {
   "cell_type": "code",
   "execution_count": null,
   "metadata": {},
   "outputs": [],
   "source": []
  },
  {
   "cell_type": "code",
   "execution_count": null,
   "metadata": {},
   "outputs": [],
   "source": []
  },
  {
   "cell_type": "code",
   "execution_count": null,
   "metadata": {},
   "outputs": [],
   "source": []
  },
  {
   "cell_type": "code",
   "execution_count": null,
   "metadata": {},
   "outputs": [],
   "source": []
  },
  {
   "cell_type": "code",
   "execution_count": null,
   "metadata": {},
   "outputs": [],
   "source": []
  },
  {
   "cell_type": "code",
   "execution_count": null,
   "metadata": {},
   "outputs": [],
   "source": []
  },
  {
   "cell_type": "code",
   "execution_count": null,
   "metadata": {},
   "outputs": [],
   "source": []
  },
  {
   "cell_type": "code",
   "execution_count": null,
   "metadata": {},
   "outputs": [],
   "source": []
  },
  {
   "cell_type": "code",
   "execution_count": null,
   "metadata": {},
   "outputs": [],
   "source": []
  },
  {
   "cell_type": "code",
   "execution_count": null,
   "metadata": {},
   "outputs": [],
   "source": []
  },
  {
   "cell_type": "code",
   "execution_count": null,
   "metadata": {},
   "outputs": [],
   "source": []
  },
  {
   "cell_type": "code",
   "execution_count": null,
   "metadata": {},
   "outputs": [],
   "source": []
  },
  {
   "cell_type": "code",
   "execution_count": null,
   "metadata": {},
   "outputs": [],
   "source": []
  },
  {
   "cell_type": "code",
   "execution_count": null,
   "metadata": {},
   "outputs": [],
   "source": []
  },
  {
   "cell_type": "code",
   "execution_count": null,
   "metadata": {},
   "outputs": [],
   "source": []
  },
  {
   "cell_type": "code",
   "execution_count": null,
   "metadata": {},
   "outputs": [],
   "source": []
  },
  {
   "cell_type": "code",
   "execution_count": null,
   "metadata": {},
   "outputs": [],
   "source": []
  },
  {
   "cell_type": "code",
   "execution_count": null,
   "metadata": {},
   "outputs": [],
   "source": []
  },
  {
   "cell_type": "code",
   "execution_count": null,
   "metadata": {},
   "outputs": [],
   "source": []
  },
  {
   "cell_type": "code",
   "execution_count": null,
   "metadata": {},
   "outputs": [],
   "source": []
  },
  {
   "cell_type": "code",
   "execution_count": null,
   "metadata": {},
   "outputs": [],
   "source": []
  },
  {
   "cell_type": "code",
   "execution_count": null,
   "metadata": {},
   "outputs": [],
   "source": []
  },
  {
   "cell_type": "code",
   "execution_count": null,
   "metadata": {},
   "outputs": [],
   "source": []
  },
  {
   "cell_type": "code",
   "execution_count": null,
   "metadata": {},
   "outputs": [],
   "source": []
  },
  {
   "cell_type": "code",
   "execution_count": null,
   "metadata": {},
   "outputs": [],
   "source": []
  },
  {
   "cell_type": "code",
   "execution_count": null,
   "metadata": {},
   "outputs": [],
   "source": []
  },
  {
   "cell_type": "code",
   "execution_count": null,
   "metadata": {},
   "outputs": [],
   "source": []
  },
  {
   "cell_type": "code",
   "execution_count": null,
   "metadata": {},
   "outputs": [],
   "source": []
  },
  {
   "cell_type": "code",
   "execution_count": null,
   "metadata": {},
   "outputs": [],
   "source": []
  },
  {
   "cell_type": "code",
   "execution_count": null,
   "metadata": {},
   "outputs": [],
   "source": []
  },
  {
   "cell_type": "code",
   "execution_count": null,
   "metadata": {},
   "outputs": [],
   "source": []
  },
  {
   "cell_type": "code",
   "execution_count": null,
   "metadata": {},
   "outputs": [],
   "source": []
  },
  {
   "cell_type": "code",
   "execution_count": null,
   "metadata": {},
   "outputs": [],
   "source": []
  },
  {
   "cell_type": "code",
   "execution_count": null,
   "metadata": {},
   "outputs": [],
   "source": []
  },
  {
   "cell_type": "code",
   "execution_count": null,
   "metadata": {},
   "outputs": [],
   "source": []
  },
  {
   "cell_type": "code",
   "execution_count": null,
   "metadata": {},
   "outputs": [],
   "source": []
  },
  {
   "cell_type": "code",
   "execution_count": null,
   "metadata": {},
   "outputs": [],
   "source": []
  },
  {
   "cell_type": "code",
   "execution_count": null,
   "metadata": {},
   "outputs": [],
   "source": []
  },
  {
   "cell_type": "code",
   "execution_count": null,
   "metadata": {},
   "outputs": [],
   "source": []
  },
  {
   "cell_type": "code",
   "execution_count": null,
   "metadata": {},
   "outputs": [],
   "source": []
  },
  {
   "cell_type": "code",
   "execution_count": null,
   "metadata": {},
   "outputs": [],
   "source": []
  },
  {
   "cell_type": "code",
   "execution_count": null,
   "metadata": {},
   "outputs": [],
   "source": []
  },
  {
   "cell_type": "code",
   "execution_count": null,
   "metadata": {},
   "outputs": [],
   "source": []
  },
  {
   "cell_type": "code",
   "execution_count": null,
   "metadata": {},
   "outputs": [],
   "source": []
  },
  {
   "cell_type": "code",
   "execution_count": null,
   "metadata": {},
   "outputs": [],
   "source": []
  },
  {
   "cell_type": "code",
   "execution_count": null,
   "metadata": {},
   "outputs": [],
   "source": []
  },
  {
   "cell_type": "code",
   "execution_count": null,
   "metadata": {},
   "outputs": [],
   "source": []
  },
  {
   "cell_type": "code",
   "execution_count": null,
   "metadata": {},
   "outputs": [],
   "source": []
  },
  {
   "cell_type": "code",
   "execution_count": null,
   "metadata": {},
   "outputs": [],
   "source": []
  },
  {
   "cell_type": "code",
   "execution_count": null,
   "metadata": {},
   "outputs": [],
   "source": []
  },
  {
   "cell_type": "code",
   "execution_count": 18,
   "metadata": {},
   "outputs": [
    {
     "data": {
      "image/png": "[encoded data removed]",
      "text/plain": [
       "<Figure size 432x288 with 1 Axes>"
      ]
     },
     "metadata": {},
     "output_type": "display_data"
    }
   ],
   "source": [
    "# library\n",
    "import matplotlib.pyplot as plt\n",
    "\n",
    "# create data\n",
    "size_of_groups=[12,11,3,30]\n",
    "\n",
    "# Create a pieplot\n",
    "plt.pie(size_of_groups)\n",
    "#plt.show()\n",
    "\n",
    "# add a circle at the center\n",
    "my_circle=plt.Circle( (0,0), 0.7, color='white')\n",
    "p=plt.gcf()\n",
    "p.gca().add_artist(my_circle)\n",
    "\n",
    "plt.show()"
   ]
  },
  {
   "cell_type": "code",
   "execution_count": 25,
   "metadata": {},
   "outputs": [],
   "source": [
    "import matplotlib.figure\n",
    "import matplotlib.patches\n",
    "from matplotlib.backends.backend_tkagg import FigureCanvasTkAgg\n",
    "import tkinter as tk\n",
    "\n",
    "fig = matplotlib.figure.Figure(figsize=(5,5))\n",
    "ax = fig.add_subplot(111)\n",
    "ax.pie([20,30,50]) \n",
    "ax.legend([\"20\",\"30\",\"50\"])\n",
    "\n",
    "circle=matplotlib.patches.Circle( (0,0), 0.7, color='white')\n",
    "ax.add_artist(circle)\n",
    "\n",
    "window= tk.Tk()\n",
    "canvas = FigureCanvasTkAgg(fig, master=window)\n",
    "canvas.get_tk_widget().pack()\n",
    "canvas.draw()\n",
    "window.mainloop()"
   ]
  },
  {
   "cell_type": "code",
   "execution_count": null,
   "metadata": {},
   "outputs": [],
   "source": []
  }
 ],
 "metadata": {
  "kernelspec": {
   "display_name": "Python 3",
   "language": "python",
   "name": "python3"
  },
  "language_info": {
   "codemirror_mode": {
    "name": "ipython",
    "version": 3
   },
   "file_extension": ".py",
   "mimetype": "text/x-python",
   "name": "python",
   "nbconvert_exporter": "python",
   "pygments_lexer": "ipython3",
   "version": "3.7.3"
  }
 },
 "nbformat": 4,
 "nbformat_minor": 2
}
